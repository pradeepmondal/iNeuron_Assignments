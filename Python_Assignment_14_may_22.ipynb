{
 "cells": [
  {
   "cell_type": "code",
   "execution_count": 1,
   "id": "bc979e1d",
   "metadata": {},
   "outputs": [],
   "source": [
    "s = \"this is My First Python programming class and i am learNING python string and its function\""
   ]
  },
  {
   "cell_type": "raw",
   "id": "73f01e73",
   "metadata": {},
   "source": [
    "1 . Try to extract data from index one to index 300 with a jump of 3 "
   ]
  },
  {
   "cell_type": "code",
   "execution_count": 2,
   "id": "d4ddcee3",
   "metadata": {},
   "outputs": [
    {
     "data": {
      "text/plain": [
       "'h   r tnrrmglsnimeNGyosi dtfco'"
      ]
     },
     "execution_count": 2,
     "metadata": {},
     "output_type": "execute_result"
    }
   ],
   "source": [
    "s[1:300:3]"
   ]
  },
  {
   "cell_type": "raw",
   "id": "4474fcdb",
   "metadata": {},
   "source": [
    "2. Try to reverse a string without using reverse function"
   ]
  },
  {
   "cell_type": "code",
   "execution_count": 3,
   "id": "3043382f",
   "metadata": {},
   "outputs": [
    {
     "data": {
      "text/plain": [
       "'noitcnuf sti dna gnirts nohtyp GNINrael ma i dna ssalc gnimmargorp nohtyP tsriF yM si siht'"
      ]
     },
     "execution_count": 3,
     "metadata": {},
     "output_type": "execute_result"
    }
   ],
   "source": [
    "s[::-1]"
   ]
  },
  {
   "cell_type": "raw",
   "id": "bd514e09",
   "metadata": {},
   "source": [
    "3. Try to split a string after conversion of entire string in uppercase"
   ]
  },
  {
   "cell_type": "code",
   "execution_count": 4,
   "id": "5b2ff5b5",
   "metadata": {},
   "outputs": [
    {
     "data": {
      "text/plain": [
       "['THIS',\n",
       " 'IS',\n",
       " 'MY',\n",
       " 'FIRST',\n",
       " 'PYTHON',\n",
       " 'PROGRAMMING',\n",
       " 'CLASS',\n",
       " 'AND',\n",
       " 'I',\n",
       " 'AM',\n",
       " 'LEARNING',\n",
       " 'PYTHON',\n",
       " 'STRING',\n",
       " 'AND',\n",
       " 'ITS',\n",
       " 'FUNCTION']"
      ]
     },
     "execution_count": 4,
     "metadata": {},
     "output_type": "execute_result"
    }
   ],
   "source": [
    "(s.upper()).split(\" \")"
   ]
  },
  {
   "cell_type": "raw",
   "id": "a8b29a50",
   "metadata": {},
   "source": [
    "4. try to convert the whole string into lower case "
   ]
  },
  {
   "cell_type": "code",
   "execution_count": 5,
   "id": "cb6392f6",
   "metadata": {},
   "outputs": [
    {
     "data": {
      "text/plain": [
       "'this is my first python programming class and i am learning python string and its function'"
      ]
     },
     "execution_count": 5,
     "metadata": {},
     "output_type": "execute_result"
    }
   ],
   "source": [
    "s.lower()"
   ]
  },
  {
   "cell_type": "raw",
   "id": "f90eaddc",
   "metadata": {},
   "source": [
    "5 . Try to capitalize the whole string "
   ]
  },
  {
   "cell_type": "code",
   "execution_count": 6,
   "id": "92b18b0d",
   "metadata": {},
   "outputs": [
    {
     "data": {
      "text/plain": [
       "'This is my first python programming class and i am learning python string and its function'"
      ]
     },
     "execution_count": 6,
     "metadata": {},
     "output_type": "execute_result"
    }
   ],
   "source": [
    "s.capitalize()"
   ]
  },
  {
   "cell_type": "raw",
   "id": "a4b8249f",
   "metadata": {},
   "source": [
    "6 . Write a diference between isalnum() and isalpha()"
   ]
  },
  {
   "cell_type": "markdown",
   "id": "9530ce0e",
   "metadata": {},
   "source": [
    "The main point of difference between isalnum() and isalpha() is that isalnum() returns true when the string contains either alphabets or numbers or both. However in case of isalpha(), it returns true when the string contains only only alphabets."
   ]
  },
  {
   "cell_type": "raw",
   "id": "e85ea32f",
   "metadata": {},
   "source": [
    "7. Try to give an example of expand tab"
   ]
  },
  {
   "cell_type": "code",
   "execution_count": 7,
   "id": "64578e23",
   "metadata": {},
   "outputs": [],
   "source": [
    "s1=\"\\thello\\tineuron\" "
   ]
  },
  {
   "cell_type": "code",
   "execution_count": 8,
   "id": "98b0d446",
   "metadata": {},
   "outputs": [
    {
     "data": {
      "text/plain": [
       "'        hello   ineuron'"
      ]
     },
     "execution_count": 8,
     "metadata": {},
     "output_type": "execute_result"
    }
   ],
   "source": [
    "s1.expandtabs() #default is 8 spaces"
   ]
  },
  {
   "cell_type": "code",
   "execution_count": 11,
   "id": "294a98c3",
   "metadata": {},
   "outputs": [
    {
     "data": {
      "text/plain": [
       "'  hello ineuron'"
      ]
     },
     "execution_count": 11,
     "metadata": {},
     "output_type": "execute_result"
    }
   ],
   "source": [
    "s1.expandtabs(2) #custom tab size"
   ]
  },
  {
   "cell_type": "raw",
   "id": "1c285c06",
   "metadata": {},
   "source": [
    "8 . Give an example of strip , lstrip and rstrip "
   ]
  },
  {
   "cell_type": "code",
   "execution_count": 13,
   "id": "7c8b0b0d",
   "metadata": {},
   "outputs": [],
   "source": [
    "s2 = \"       windows  mac         \""
   ]
  },
  {
   "cell_type": "code",
   "execution_count": 14,
   "id": "f78b63ee",
   "metadata": {},
   "outputs": [
    {
     "data": {
      "text/plain": [
       "'windows  mac         '"
      ]
     },
     "execution_count": 14,
     "metadata": {},
     "output_type": "execute_result"
    }
   ],
   "source": [
    "s2.lstrip()"
   ]
  },
  {
   "cell_type": "code",
   "execution_count": 15,
   "id": "a6db02ff",
   "metadata": {},
   "outputs": [
    {
     "data": {
      "text/plain": [
       "'       windows  mac'"
      ]
     },
     "execution_count": 15,
     "metadata": {},
     "output_type": "execute_result"
    }
   ],
   "source": [
    "s2.rstrip()"
   ]
  },
  {
   "cell_type": "code",
   "execution_count": 16,
   "id": "0962506b",
   "metadata": {},
   "outputs": [
    {
     "data": {
      "text/plain": [
       "'windows  mac'"
      ]
     },
     "execution_count": 16,
     "metadata": {},
     "output_type": "execute_result"
    }
   ],
   "source": [
    "s2.strip()"
   ]
  },
  {
   "cell_type": "raw",
   "id": "845fc408",
   "metadata": {},
   "source": [
    "9.  Replace a string character by another character by taking your own example"
   ]
  },
  {
   "cell_type": "code",
   "execution_count": 17,
   "id": "d8927c34",
   "metadata": {},
   "outputs": [],
   "source": [
    "s3=\"site\""
   ]
  },
  {
   "cell_type": "code",
   "execution_count": 18,
   "id": "0124e271",
   "metadata": {},
   "outputs": [
    {
     "data": {
      "text/plain": [
       "'kite'"
      ]
     },
     "execution_count": 18,
     "metadata": {},
     "output_type": "execute_result"
    }
   ],
   "source": [
    "s3.replace('s', 'k')"
   ]
  },
  {
   "cell_type": "raw",
   "id": "9125035f",
   "metadata": {},
   "source": [
    "10 . Try to give a definition of string center function with and exmple "
   ]
  },
  {
   "cell_type": "markdown",
   "id": "1eda8ce9",
   "metadata": {},
   "source": [
    "The string center function in python aligns a string at the center by converting the string to the given size as the parameter and filling the rest by the given character"
   ]
  },
  {
   "cell_type": "code",
   "execution_count": 19,
   "id": "3ee53371",
   "metadata": {},
   "outputs": [],
   "source": [
    "s4 = \"pradeep\""
   ]
  },
  {
   "cell_type": "code",
   "execution_count": 20,
   "id": "c1bde895",
   "metadata": {},
   "outputs": [
    {
     "data": {
      "text/plain": [
       "'********pradeep*********'"
      ]
     },
     "execution_count": 20,
     "metadata": {},
     "output_type": "execute_result"
    }
   ],
   "source": [
    "s4.center(24,'*')"
   ]
  },
  {
   "cell_type": "raw",
   "id": "5d7fab63",
   "metadata": {},
   "source": [
    "11 . Write your own definition of compiler and interpretor without copy paste form internet in your own language"
   ]
  },
  {
   "cell_type": "markdown",
   "id": "78996d13",
   "metadata": {},
   "source": [
    "Compiler - A compiler is a program that converts code written in high level language to machine language creating                object file in between and executing line by line. Languages like C are compiler based.\n",
    "\n",
    "Interpreter - An interpreter is a program that also converts code written in high level language to machine language                 but here the whole code is analysed and then converted, so error detection is easy. Languages like                     JavaScript are interpreter based."
   ]
  },
  {
   "cell_type": "raw",
   "id": "8b8163c6",
   "metadata": {},
   "source": [
    "12 . Python is a interpreted or compiled language give a clear ans with your understanding "
   ]
  },
  {
   "cell_type": "markdown",
   "id": "d3e8fc00",
   "metadata": {},
   "source": [
    "Python uses both the processes. In most of the cases, Python is first compiled by python compiler to byte code, then, it is interpreted by a virtual machine depending on its implementation.\n",
    "\n",
    "However in case of PyPy implementation it uses the standard Just-In-Time Compilation."
   ]
  },
  {
   "cell_type": "raw",
   "id": "24a7af0e",
   "metadata": {},
   "source": [
    "13 . Try to write a usecase of python with your understanding ."
   ]
  },
  {
   "cell_type": "markdown",
   "id": "27aa67e2",
   "metadata": {},
   "source": [
    "A simple usecase of python could be calculation of final price of a product in a ecommerce store after applying various offers as per the payment methods used and other factors."
   ]
  },
  {
   "cell_type": "code",
   "execution_count": null,
   "id": "056ec716",
   "metadata": {},
   "outputs": [],
   "source": []
  }
 ],
 "metadata": {
  "kernelspec": {
   "display_name": "Python 3 (ipykernel)",
   "language": "python",
   "name": "python3"
  },
  "language_info": {
   "codemirror_mode": {
    "name": "ipython",
    "version": 3
   },
   "file_extension": ".py",
   "mimetype": "text/x-python",
   "name": "python",
   "nbconvert_exporter": "python",
   "pygments_lexer": "ipython3",
   "version": "3.9.7"
  }
 },
 "nbformat": 4,
 "nbformat_minor": 5
}
